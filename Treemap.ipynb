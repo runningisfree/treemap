{
 "cells": [
  {
   "cell_type": "code",
   "execution_count": 1,
   "metadata": {},
   "outputs": [],
   "source": [
    "# for data tables and analysis\n",
    "import pandas as pd\n",
    "# for charting\n",
    "import matplotlib\n",
    "from matplotlib import style\n",
    "import matplotlib.pyplot as plt\n",
    "import seaborn as sns\n",
    "#for Treemap\n",
    "import squarify\n",
    "\n",
    "sns.set()\n",
    "%matplotlib inline\n",
    "# plot a size that is easy to read\n",
    "matplotlib.rcParams['figure.figsize'] = (16.0,9.0)\n",
    "style.use('seaborn')"
   ]
  },
  {
   "cell_type": "code",
   "execution_count": 2,
   "metadata": {},
   "outputs": [
    {
     "data": {
      "text/html": [
       "<div>\n",
       "<style scoped>\n",
       "    .dataframe tbody tr th:only-of-type {\n",
       "        vertical-align: middle;\n",
       "    }\n",
       "\n",
       "    .dataframe tbody tr th {\n",
       "        vertical-align: top;\n",
       "    }\n",
       "\n",
       "    .dataframe thead th {\n",
       "        text-align: right;\n",
       "    }\n",
       "</style>\n",
       "<table border=\"1\" class=\"dataframe\">\n",
       "  <thead>\n",
       "    <tr style=\"text-align: right;\">\n",
       "      <th></th>\n",
       "      <th>P&amp;L Label</th>\n",
       "      <th>Amount</th>\n",
       "    </tr>\n",
       "  </thead>\n",
       "  <tbody>\n",
       "    <tr>\n",
       "      <th>0</th>\n",
       "      <td>COR - Direct</td>\n",
       "      <td>33260.50</td>\n",
       "    </tr>\n",
       "    <tr>\n",
       "      <th>1</th>\n",
       "      <td>Customer Success (COR) Payroll</td>\n",
       "      <td>127663.90</td>\n",
       "    </tr>\n",
       "    <tr>\n",
       "      <th>2</th>\n",
       "      <td>Sales Payroll</td>\n",
       "      <td>291654.09</td>\n",
       "    </tr>\n",
       "    <tr>\n",
       "      <th>3</th>\n",
       "      <td>Marketing Payroll</td>\n",
       "      <td>84550.83</td>\n",
       "    </tr>\n",
       "    <tr>\n",
       "      <th>4</th>\n",
       "      <td>G&amp;A Payroll</td>\n",
       "      <td>160174.56</td>\n",
       "    </tr>\n",
       "    <tr>\n",
       "      <th>5</th>\n",
       "      <td>Product Payroll</td>\n",
       "      <td>137638.41</td>\n",
       "    </tr>\n",
       "    <tr>\n",
       "      <th>6</th>\n",
       "      <td>Engineering Payroll</td>\n",
       "      <td>229355.49</td>\n",
       "    </tr>\n",
       "    <tr>\n",
       "      <th>7</th>\n",
       "      <td>Travel expenses</td>\n",
       "      <td>14306.11</td>\n",
       "    </tr>\n",
       "    <tr>\n",
       "      <th>8</th>\n",
       "      <td>Legal and Accounting</td>\n",
       "      <td>52466.96</td>\n",
       "    </tr>\n",
       "    <tr>\n",
       "      <th>9</th>\n",
       "      <td>Outside Services</td>\n",
       "      <td>77173.46</td>\n",
       "    </tr>\n",
       "    <tr>\n",
       "      <th>10</th>\n",
       "      <td>Sales &amp; Marketing Expenses</td>\n",
       "      <td>94161.34</td>\n",
       "    </tr>\n",
       "    <tr>\n",
       "      <th>11</th>\n",
       "      <td>Facility Cost</td>\n",
       "      <td>75241.53</td>\n",
       "    </tr>\n",
       "    <tr>\n",
       "      <th>12</th>\n",
       "      <td>Admin &amp; Office Expense</td>\n",
       "      <td>50056.37</td>\n",
       "    </tr>\n",
       "  </tbody>\n",
       "</table>\n",
       "</div>"
      ],
      "text/plain": [
       "                         P&L Label     Amount\n",
       "0                     COR - Direct   33260.50\n",
       "1   Customer Success (COR) Payroll  127663.90\n",
       "2                    Sales Payroll  291654.09\n",
       "3                Marketing Payroll   84550.83\n",
       "4                      G&A Payroll  160174.56\n",
       "5                  Product Payroll  137638.41\n",
       "6              Engineering Payroll  229355.49\n",
       "7                  Travel expenses   14306.11\n",
       "8             Legal and Accounting   52466.96\n",
       "9                 Outside Services   77173.46\n",
       "10      Sales & Marketing Expenses   94161.34\n",
       "11                   Facility Cost   75241.53\n",
       "12          Admin & Office Expense   50056.37"
      ]
     },
     "execution_count": 2,
     "metadata": {},
     "output_type": "execute_result"
    }
   ],
   "source": [
    "# read the excel file to get data\n",
    "mysheetname = 'data'\n",
    "df = pd.read_excel('data.xlsx', sheet_name= mysheetname)\n",
    "df"
   ]
  },
  {
   "cell_type": "code",
   "execution_count": 3,
   "metadata": {},
   "outputs": [
    {
     "data": {
      "text/html": [
       "<div>\n",
       "<style scoped>\n",
       "    .dataframe tbody tr th:only-of-type {\n",
       "        vertical-align: middle;\n",
       "    }\n",
       "\n",
       "    .dataframe tbody tr th {\n",
       "        vertical-align: top;\n",
       "    }\n",
       "\n",
       "    .dataframe thead th {\n",
       "        text-align: right;\n",
       "    }\n",
       "</style>\n",
       "<table border=\"1\" class=\"dataframe\">\n",
       "  <thead>\n",
       "    <tr style=\"text-align: right;\">\n",
       "      <th></th>\n",
       "      <th>P&amp;L Label</th>\n",
       "      <th>Amount</th>\n",
       "      <th>Perc of TotalExp</th>\n",
       "      <th>Perc of TotalRev</th>\n",
       "      <th>Chart Label</th>\n",
       "    </tr>\n",
       "  </thead>\n",
       "  <tbody>\n",
       "    <tr>\n",
       "      <th>0</th>\n",
       "      <td>Sales Payroll</td>\n",
       "      <td>291654.09</td>\n",
       "      <td>20.4</td>\n",
       "      <td>32.0</td>\n",
       "      <td>Sales Payroll (32.0%)</td>\n",
       "    </tr>\n",
       "    <tr>\n",
       "      <th>1</th>\n",
       "      <td>Engineering Payroll</td>\n",
       "      <td>229355.49</td>\n",
       "      <td>16.1</td>\n",
       "      <td>25.1</td>\n",
       "      <td>Engineering Payroll (25.1%)</td>\n",
       "    </tr>\n",
       "    <tr>\n",
       "      <th>2</th>\n",
       "      <td>G&amp;A Payroll</td>\n",
       "      <td>160174.56</td>\n",
       "      <td>11.2</td>\n",
       "      <td>17.6</td>\n",
       "      <td>G&amp;A Payroll (17.6%)</td>\n",
       "    </tr>\n",
       "    <tr>\n",
       "      <th>3</th>\n",
       "      <td>Product Payroll</td>\n",
       "      <td>137638.41</td>\n",
       "      <td>9.6</td>\n",
       "      <td>15.1</td>\n",
       "      <td>Product Payroll (15.1%)</td>\n",
       "    </tr>\n",
       "    <tr>\n",
       "      <th>4</th>\n",
       "      <td>Customer Success (COR) Payroll</td>\n",
       "      <td>127663.90</td>\n",
       "      <td>8.9</td>\n",
       "      <td>14.0</td>\n",
       "      <td>Customer Success (COR) Payroll (14.0%)</td>\n",
       "    </tr>\n",
       "    <tr>\n",
       "      <th>5</th>\n",
       "      <td>Sales &amp; Marketing Expenses</td>\n",
       "      <td>94161.34</td>\n",
       "      <td>6.6</td>\n",
       "      <td>10.3</td>\n",
       "      <td>Sales &amp; Marketing Expenses (10.3%)</td>\n",
       "    </tr>\n",
       "    <tr>\n",
       "      <th>6</th>\n",
       "      <td>Marketing Payroll</td>\n",
       "      <td>84550.83</td>\n",
       "      <td>5.9</td>\n",
       "      <td>9.3</td>\n",
       "      <td>Marketing Payroll (9.3%)</td>\n",
       "    </tr>\n",
       "    <tr>\n",
       "      <th>7</th>\n",
       "      <td>Outside Services</td>\n",
       "      <td>77173.46</td>\n",
       "      <td>5.4</td>\n",
       "      <td>8.5</td>\n",
       "      <td>Outside Services (8.5%)</td>\n",
       "    </tr>\n",
       "    <tr>\n",
       "      <th>8</th>\n",
       "      <td>Facility Cost</td>\n",
       "      <td>75241.53</td>\n",
       "      <td>5.3</td>\n",
       "      <td>8.2</td>\n",
       "      <td>Facility Cost (8.2%)</td>\n",
       "    </tr>\n",
       "    <tr>\n",
       "      <th>9</th>\n",
       "      <td>Legal and Accounting</td>\n",
       "      <td>52466.96</td>\n",
       "      <td>3.7</td>\n",
       "      <td>5.8</td>\n",
       "      <td>Legal and Accounting (5.8%)</td>\n",
       "    </tr>\n",
       "    <tr>\n",
       "      <th>10</th>\n",
       "      <td>Admin &amp; Office Expense</td>\n",
       "      <td>50056.37</td>\n",
       "      <td>3.5</td>\n",
       "      <td>5.5</td>\n",
       "      <td>Admin &amp; Office Expense (5.5%)</td>\n",
       "    </tr>\n",
       "    <tr>\n",
       "      <th>11</th>\n",
       "      <td>COR - Direct</td>\n",
       "      <td>33260.50</td>\n",
       "      <td>2.3</td>\n",
       "      <td>3.6</td>\n",
       "      <td>COR - Direct (3.6%)</td>\n",
       "    </tr>\n",
       "    <tr>\n",
       "      <th>12</th>\n",
       "      <td>Travel expenses</td>\n",
       "      <td>14306.11</td>\n",
       "      <td>1.0</td>\n",
       "      <td>1.6</td>\n",
       "      <td>Travel expenses (1.6%)</td>\n",
       "    </tr>\n",
       "  </tbody>\n",
       "</table>\n",
       "</div>"
      ],
      "text/plain": [
       "                         P&L Label     Amount  Perc of TotalExp  \\\n",
       "0                    Sales Payroll  291654.09              20.4   \n",
       "1              Engineering Payroll  229355.49              16.1   \n",
       "2                      G&A Payroll  160174.56              11.2   \n",
       "3                  Product Payroll  137638.41               9.6   \n",
       "4   Customer Success (COR) Payroll  127663.90               8.9   \n",
       "5       Sales & Marketing Expenses   94161.34               6.6   \n",
       "6                Marketing Payroll   84550.83               5.9   \n",
       "7                 Outside Services   77173.46               5.4   \n",
       "8                    Facility Cost   75241.53               5.3   \n",
       "9             Legal and Accounting   52466.96               3.7   \n",
       "10          Admin & Office Expense   50056.37               3.5   \n",
       "11                    COR - Direct   33260.50               2.3   \n",
       "12                 Travel expenses   14306.11               1.0   \n",
       "\n",
       "    Perc of TotalRev                             Chart Label  \n",
       "0               32.0                   Sales Payroll (32.0%)  \n",
       "1               25.1             Engineering Payroll (25.1%)  \n",
       "2               17.6                     G&A Payroll (17.6%)  \n",
       "3               15.1                 Product Payroll (15.1%)  \n",
       "4               14.0  Customer Success (COR) Payroll (14.0%)  \n",
       "5               10.3      Sales & Marketing Expenses (10.3%)  \n",
       "6                9.3                Marketing Payroll (9.3%)  \n",
       "7                8.5                 Outside Services (8.5%)  \n",
       "8                8.2                    Facility Cost (8.2%)  \n",
       "9                5.8             Legal and Accounting (5.8%)  \n",
       "10               5.5           Admin & Office Expense (5.5%)  \n",
       "11               3.6                     COR - Direct (3.6%)  \n",
       "12               1.6                  Travel expenses (1.6%)  "
      ]
     },
     "execution_count": 3,
     "metadata": {},
     "output_type": "execute_result"
    }
   ],
   "source": [
    "# Create a new column in data frame for our treemap label. Sort by largest expense item\n",
    "df = df.sort_values(by='Amount',ascending = False)\n",
    "# Find percentage of total expenses, create column\n",
    "df['Perc of TotalExp'] = round((df['Amount'] / sum(df['Amount']))*100,1)\n",
    "# Find percentage of total revenue, create column\n",
    "# GAAP Revenue (not ARR or subscription)\n",
    "tot_rev = 912160\n",
    "df['Perc of TotalRev'] = round((df['Amount'] / tot_rev)*100,1)\n",
    "# Create new column for labels for treemap which are python strings\n",
    "df['Chart Label'] = df['P&L Label'] + \" (\" + df['Perc of TotalRev'].astype('str') + \"%)\"\n",
    "df.reset_index(inplace=True, drop=True)\n",
    "df"
   ]
  },
  {
   "cell_type": "markdown",
   "metadata": {},
   "source": [
    "Payroll is the largest category. What is the total payroll as a % of total rev?"
   ]
  },
  {
   "cell_type": "code",
   "execution_count": 4,
   "metadata": {},
   "outputs": [
    {
     "data": {
      "text/html": [
       "<div>\n",
       "<style scoped>\n",
       "    .dataframe tbody tr th:only-of-type {\n",
       "        vertical-align: middle;\n",
       "    }\n",
       "\n",
       "    .dataframe tbody tr th {\n",
       "        vertical-align: top;\n",
       "    }\n",
       "\n",
       "    .dataframe thead th {\n",
       "        text-align: right;\n",
       "    }\n",
       "</style>\n",
       "<table border=\"1\" class=\"dataframe\">\n",
       "  <thead>\n",
       "    <tr style=\"text-align: right;\">\n",
       "      <th></th>\n",
       "      <th>P&amp;L Label</th>\n",
       "      <th>Amount</th>\n",
       "      <th>Perc of TotalExp</th>\n",
       "      <th>Perc of TotalRev</th>\n",
       "      <th>% total P</th>\n",
       "      <th>Payroll Label</th>\n",
       "    </tr>\n",
       "  </thead>\n",
       "  <tbody>\n",
       "    <tr>\n",
       "      <th>0</th>\n",
       "      <td>Sales Payroll</td>\n",
       "      <td>291654.09</td>\n",
       "      <td>20.4</td>\n",
       "      <td>32.0</td>\n",
       "      <td>28.3</td>\n",
       "      <td>Sales (32.0%)</td>\n",
       "    </tr>\n",
       "    <tr>\n",
       "      <th>1</th>\n",
       "      <td>Engineering Payroll</td>\n",
       "      <td>229355.49</td>\n",
       "      <td>16.1</td>\n",
       "      <td>25.1</td>\n",
       "      <td>22.2</td>\n",
       "      <td>Engineering (25.1%)</td>\n",
       "    </tr>\n",
       "    <tr>\n",
       "      <th>2</th>\n",
       "      <td>G&amp;A Payroll</td>\n",
       "      <td>160174.56</td>\n",
       "      <td>11.2</td>\n",
       "      <td>17.6</td>\n",
       "      <td>15.5</td>\n",
       "      <td>G&amp;A (17.6%)</td>\n",
       "    </tr>\n",
       "    <tr>\n",
       "      <th>3</th>\n",
       "      <td>Product Payroll</td>\n",
       "      <td>137638.41</td>\n",
       "      <td>9.6</td>\n",
       "      <td>15.1</td>\n",
       "      <td>13.3</td>\n",
       "      <td>Product (15.1%)</td>\n",
       "    </tr>\n",
       "    <tr>\n",
       "      <th>4</th>\n",
       "      <td>Customer Success (COR) Payroll</td>\n",
       "      <td>127663.90</td>\n",
       "      <td>8.9</td>\n",
       "      <td>14.0</td>\n",
       "      <td>12.4</td>\n",
       "      <td>Customer Success (COR) (14.0%)</td>\n",
       "    </tr>\n",
       "    <tr>\n",
       "      <th>5</th>\n",
       "      <td>Marketing Payroll</td>\n",
       "      <td>84550.83</td>\n",
       "      <td>5.9</td>\n",
       "      <td>9.3</td>\n",
       "      <td>8.2</td>\n",
       "      <td>Marketing (9.3%)</td>\n",
       "    </tr>\n",
       "  </tbody>\n",
       "</table>\n",
       "</div>"
      ],
      "text/plain": [
       "                        P&L Label     Amount  Perc of TotalExp  \\\n",
       "0                   Sales Payroll  291654.09              20.4   \n",
       "1             Engineering Payroll  229355.49              16.1   \n",
       "2                     G&A Payroll  160174.56              11.2   \n",
       "3                 Product Payroll  137638.41               9.6   \n",
       "4  Customer Success (COR) Payroll  127663.90               8.9   \n",
       "5               Marketing Payroll   84550.83               5.9   \n",
       "\n",
       "   Perc of TotalRev  % total P                   Payroll Label  \n",
       "0              32.0       28.3                   Sales (32.0%)  \n",
       "1              25.1       22.2             Engineering (25.1%)  \n",
       "2              17.6       15.5                     G&A (17.6%)  \n",
       "3              15.1       13.3                 Product (15.1%)  \n",
       "4              14.0       12.4  Customer Success (COR) (14.0%)  \n",
       "5               9.3        8.2                Marketing (9.3%)  "
      ]
     },
     "execution_count": 4,
     "metadata": {},
     "output_type": "execute_result"
    }
   ],
   "source": [
    "# create another data table with just the payroll info\n",
    "df_payroll = df[df['P&L Label'].str.contains('Payroll')].copy()\n",
    "df_payroll.reset_index(inplace=True,drop=True)\n",
    "# create a column for % of total payroll\n",
    "# Find percentage of total expense, create column\n",
    "df_payroll['% total P'] = round((df_payroll['Amount'] / sum(df_payroll['Amount']))*100,1)\n",
    "\n",
    "# Create new column for labels for treemap which are python strings\n",
    "df_payroll['Payroll Label'] = df_payroll['P&L Label'].apply(lambda x: x[:-8]) + \\\n",
    "                            \" (\" + df_payroll['Perc of TotalRev'].astype('str') + \"%)\"\n",
    "df_payroll.drop('Chart Label',axis = 1, inplace=True)\n",
    "df_payroll"
   ]
  },
  {
   "cell_type": "code",
   "execution_count": 5,
   "metadata": {},
   "outputs": [
    {
     "data": {
      "text/plain": [
       "72.2"
      ]
     },
     "execution_count": 5,
     "metadata": {},
     "output_type": "execute_result"
    }
   ],
   "source": [
    "# The answer to total payroll as % of total expense:\n",
    "total_payroll_as_perc_of_tot = round((sum(df_payroll['Amount'])/sum(df['Amount']))*100,1)\n",
    "total_payroll_as_perc_of_tot"
   ]
  },
  {
   "cell_type": "code",
   "execution_count": 6,
   "metadata": {},
   "outputs": [
    {
     "data": {
      "text/plain": [
       "113.1"
      ]
     },
     "execution_count": 6,
     "metadata": {},
     "output_type": "execute_result"
    }
   ],
   "source": [
    "# total payroll as % of Gaap Rev\n",
    "sum(df_payroll['Perc of TotalRev'])"
   ]
  },
  {
   "cell_type": "code",
   "execution_count": 7,
   "metadata": {},
   "outputs": [
    {
     "data": {
      "text/plain": [
       "156"
      ]
     },
     "execution_count": 7,
     "metadata": {},
     "output_type": "execute_result"
    }
   ],
   "source": [
    "# total expenses as % of Gaap Revenue\n",
    "int(sum(df['Perc of TotalRev']))"
   ]
  },
  {
   "cell_type": "markdown",
   "metadata": {},
   "source": [
    "The level of spending is actually not that unusual for a growing SaaS company which is investing in it sales team. "
   ]
  },
  {
   "cell_type": "markdown",
   "metadata": {},
   "source": [
    "CREATE THE CHARTS FROM THE 2 SETS OF DATA"
   ]
  },
  {
   "cell_type": "code",
   "execution_count": 8,
   "metadata": {},
   "outputs": [
    {
     "data": {
      "image/png": "[encoded data removed]",
      "text/plain": [
       "<Figure size 1332x756 with 1 Axes>"
      ]
     },
     "metadata": {
      "needs_background": "light"
     },
     "output_type": "display_data"
    }
   ],
   "source": [
    "# Chart of All expenses\n",
    "fig, ax = plt.subplots()\n",
    "# colormap\n",
    "cmap = matplotlib.cm.summer\n",
    "# max and min values\n",
    "max_val = max(df['Amount'])\n",
    "min_val = min(df['Amount'])\n",
    "# creating colors for each tile\n",
    "norm = matplotlib.colors.Normalize(vmax = max_val, vmin = min_val)\n",
    "colors = [cmap(norm(value)) for value in df['Amount']]\n",
    "# create the chart with .plot\n",
    "squarify.plot(sizes=df['Amount'],label=df['Chart Label'],alpha = 0.75, color = colors)\n",
    "# Remove axis line\n",
    "plt.axis('off')\n",
    "# invert the y-axis so largest percentages are at the upper left\n",
    "plt.gca().invert_yaxis()\n",
    "# Title and positioning\n",
    "plt.title('Expenses (% of GAAP Rev) for SaaS Company in Growth Stage',fontsize = 32)\n",
    "title_pos = ax.title\n",
    "title_pos.set_position([.5, 1.01])\n",
    "#set figure size and save\n",
    "fig.set_size_inches(18.5, 10.5)\n",
    "fig.savefig('tree1.jpg', dpi=100)\n"
   ]
  },
  {
   "cell_type": "code",
   "execution_count": 10,
   "metadata": {},
   "outputs": [
    {
     "data": {
      "image/png": "[encoded data removed]",
      "text/plain": [
       "<Figure size 1332x756 with 1 Axes>"
      ]
     },
     "metadata": {
      "needs_background": "light"
     },
     "output_type": "display_data"
    }
   ],
   "source": [
    "# Create Chart for Payroll categories only\n",
    "# Chart of All expenses\n",
    "fig2, ax2 = plt.subplots()\n",
    "# colormap\n",
    "cmap = matplotlib.cm.summer\n",
    "# max and min values\n",
    "max_val = max(df_payroll['Amount'])\n",
    "min_val = min(df_payroll['Amount'])\n",
    "# creating colors for each tile\n",
    "norm = matplotlib.colors.Normalize(vmax = max_val, vmin = min_val)\n",
    "colors = [cmap(norm(value)) for value in df_payroll['Amount']]\n",
    "# create the chart with .plot\n",
    "squarify.plot(sizes=df_payroll['Amount'],label=df_payroll['Payroll Label'],alpha = 0.75, color = colors)\n",
    "# Remove axis line\n",
    "plt.axis('off')\n",
    "# invert the y-axis so largest percentages are at the upper left\n",
    "plt.gca().invert_yaxis()\n",
    "# Title and positioning\n",
    "plt.title('Dept. Payroll (% of Gaap Rev) for SaaS Company in Growth Stage',fontsize = 32)\n",
    "title_pos = ax2.title\n",
    "title_pos.set_position([.5, 1.01])\n",
    "#set figure size and save\n",
    "fig2.set_size_inches(18.5, 10.5)\n",
    "fig2.savefig('tree2.jpg', dpi=100)"
   ]
  },
  {
   "cell_type": "code",
   "execution_count": null,
   "metadata": {},
   "outputs": [],
   "source": []
  }
 ],
 "metadata": {
  "kernelspec": {
   "display_name": "Python 3",
   "language": "python",
   "name": "python3"
  },
  "language_info": {
   "codemirror_mode": {
    "name": "ipython",
    "version": 3
   },
   "file_extension": ".py",
   "mimetype": "text/x-python",
   "name": "python",
   "nbconvert_exporter": "python",
   "pygments_lexer": "ipython3",
   "version": "3.7.2"
  }
 },
 "nbformat": 4,
 "nbformat_minor": 2
}
